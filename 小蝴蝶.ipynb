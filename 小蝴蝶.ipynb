{
 "cells": [
  {
   "cell_type": "code",
   "execution_count": 1,
   "metadata": {},
   "outputs": [],
   "source": [
    "import pandas as pd\n",
    "import numpy as np"
   ]
  },
  {
   "cell_type": "code",
   "execution_count": 39,
   "metadata": {},
   "outputs": [],
   "source": [
    "data = pd.read_excel(r'小蝴蝶平台文案-總表.xlsx')"
   ]
  },
  {
   "cell_type": "code",
   "execution_count": 40,
   "metadata": {},
   "outputs": [],
   "source": [
    "unintended = data[data.角色頁碼 == 'unintended-2']\n",
    "youngdad = data[data.角色頁碼 == 'youngdad-2']\n",
    "daughter = data[data.角色頁碼 == 'daughter-2']"
   ]
  },
  {
   "cell_type": "code",
   "execution_count": 41,
   "metadata": {},
   "outputs": [],
   "source": [
    "test = unintended[['角色頁碼', '第一階', '第一階說明', '第一階頁碼', '第二階', '第二階說明', '第二階頁碼',\n",
    "       '第三階', '第三階說明', '第三階頁碼', '第四階', '第四階說明', '第四階頁碼',\n",
    "       '第五階', '第五階說明', '第五階頁碼', '第六階', '第六階說明', '第六階頁碼',\n",
    "       '第七階', '第七階說明', '第七階頁碼',]]"
   ]
  },
  {
   "cell_type": "code",
   "execution_count": 42,
   "metadata": {},
   "outputs": [
    {
     "name": "stderr",
     "output_type": "stream",
     "text": [
      "C:\\Users\\cmuh1\\AppData\\Local\\Temp\\ipykernel_23740\\4042652465.py:1: SettingWithCopyWarning: \n",
      "A value is trying to be set on a copy of a slice from a DataFrame.\n",
      "Try using .loc[row_indexer,col_indexer] = value instead\n",
      "\n",
      "See the caveats in the documentation: https://pandas.pydata.org/pandas-docs/stable/user_guide/indexing.html#returning-a-view-versus-a-copy\n",
      "  test['sum'] = test.角色頁碼 + ',' + test.第一階頁碼 + ',' + test.第二階頁碼 + ',' + test.第三階頁碼\n"
     ]
    }
   ],
   "source": [
    "test['sum'] = test.角色頁碼 + ',' + test.第一階頁碼 + ',' + test.第二階頁碼 + ',' + test.第三階頁碼 \n",
    "# + ',' + test.第四階頁碼 + ',' + test.第五階頁碼 + ',' + test.第六階頁碼 + ',' + test.第七階頁碼 "
   ]
  },
  {
   "cell_type": "code",
   "execution_count": 38,
   "metadata": {},
   "outputs": [],
   "source": [
    "test.to_excel(r'test.xlsx')"
   ]
  },
  {
   "cell_type": "code",
   "execution_count": null,
   "metadata": {},
   "outputs": [],
   "source": []
  },
  {
   "cell_type": "code",
   "execution_count": 1,
   "metadata": {},
   "outputs": [],
   "source": [
    "from selenium import webdriver\n",
    "from bs4 import BeautifulSoup\n"
   ]
  },
  {
   "cell_type": "code",
   "execution_count": 12,
   "metadata": {},
   "outputs": [],
   "source": [
    "web = webdriver.Chrome()\n",
    "url = 'https://paela-iecosystem.meida.tw/#/intimacy-4-2'\n",
    "# 'https://paela-iecosystem.meida.tw/#/medical-4-1'\n",
    "# 'https://paela-iecosystem.meida.tw/#/youngdad-4-1'\n",
    "# 'https://paela-iecosystem.meida.tw/#/youngdad-3-4'\n",
    "# 'https://paela-iecosystem.meida.tw/#/unintended-2'\n",
    "\n",
    "web.get(url)\n",
    "page = web.page_source\n",
    "#存檔\n",
    "# fp = open(\"page.html\", \"w+\", encoding='UTF-8')\n",
    "# fp.write(web.page_source)    \n",
    "# fp.close() \n",
    "\n",
    "web.close()\n",
    "\n",
    "Soup = BeautifulSoup(page,\"lxml\")\n",
    "price = Soup.select(\"#\\#app > div > div:nth-child(2) > div:nth-child(7) > main > section.container.step-rwd > div > div.container.step-box > div > ul > li > a\")\n"
   ]
  },
  {
   "cell_type": "code",
   "execution_count": 92,
   "metadata": {},
   "outputs": [
    {
     "data": {
      "text/plain": [
       "[<a class=\"\" href=\"#/youngdad-4-1\">醫療議題</a>,\n",
       " <a class=\"\" href=\"#/youngdad-4-2\">法律議題</a>,\n",
       " <a class=\"\" href=\"#/familyRelation-4-4\">家庭關係</a>,\n",
       " <a class=\"\" href=\"#/intimacy-3-1\">親密關係</a>]"
      ]
     },
     "execution_count": 92,
     "metadata": {},
     "output_type": "execute_result"
    }
   ],
   "source": [
    "price"
   ]
  },
  {
   "cell_type": "code",
   "execution_count": 95,
   "metadata": {},
   "outputs": [
    {
     "data": {
      "text/plain": [
       "[<a class=\"\" href=\"#/medical-4-1\">我女友可以中止懷孕嗎？</a>,\n",
       " <a class=\"\" href=\"#/intimacy-4-2\">可以買事後避孕藥嗎？</a>,\n",
       " <a class=\"\" href=\"#/act-3-1\">未成年拿避孕藥會被通報？</a>,\n",
       " <a class=\"\" href=\"#/medical-4-8\">如何驗孕 / 就醫</a>,\n",
       " <a class=\"\" href=\"#/medical-4-8\">保險套戴反了</a>,\n",
       " <a class=\"\" href=\"#/medical-4-8\">懷孕前的徵兆？</a>,\n",
       " <a class=\"\" href=\"#/medical-4-8\">保險套破了</a>,\n",
       " <a class=\"\" href=\"#/medical-4-9\">吃避孕藥，月經沒來？</a>,\n",
       " <a class=\"\" href=\"#/medical-4-10\">懷孕週數怎麼算？</a>,\n",
       " <a class=\"\" href=\"#/medical-4-11\">假性月經是什麼？</a>]"
      ]
     },
     "execution_count": 95,
     "metadata": {},
     "output_type": "execute_result"
    }
   ],
   "source": [
    "price"
   ]
  },
  {
   "cell_type": "code",
   "execution_count": 11,
   "metadata": {},
   "outputs": [
    {
     "data": {
      "text/plain": [
       "[<ul class=\"select-item container-inner mt-60\"><li class=\"aos-init\" data-aos=\"fade-up\"><h3>什麼是中止懷孕？</h3><p>中止懷孕又可稱為終止懷孕、墮胎、人工流產、終止妊娠。可以透過手術或口服藥物的方式，將胚胎從子宮內移除。隨著懷孕時間的長短不同而有不同的執行療程、影響及法律規範。若透過合法管道進行醫療流程，會有醫師給予適時的檢查與手術，可以降低風險。反之，若沒有依循合法正常的途徑或太晚執行中止懷孕，很有可能會對身體留下永久的傷害。<br/><img alt=\"\" class=\"rounded-0 w-100 pt-2\" src=\"https://www.taog.org.tw/img/ill/12.jpg\"/><br/>《圖片來源：台灣婦產科醫學會》</p></li><li class=\"aos-init\" data-aos=\"fade-up\"><h3>執行中止懷孕的相關手術或療程有需要住院嗎？</h3><p>如果是在12週以內能夠在相關的醫院或診所進行，但如果超過12週後則需要依照優生健保法住院進行。</p></li><li class=\"aos-init\" data-aos=\"fade-up\"><h3>如果自己到醫院或診所單純就診檢查會通知父母嗎？</h3><p>如果是未滿20歲的青少女(年)，只是單純就診，並不會通知父母或主管機關；但如果確定要執行中止懷孕的相關手術及療程就會需要法定代理人或配偶的同意。但是，如果你是未滿16歲的青少女(年)，由於在法律中你的身分仍屬於限制行為能力者，所以有關重要的事(就學、就醫等等)，皆需法定監護人協助與陪同。所以當你獨自就診時，醫院就有需要通知你的監護人或主管機關來幫忙。主管機關的角色是來協同你將此事處理得更完整，或確保你的權益不會因為年紀、身分而受損。</p></li><li class=\"aos-init\" data-aos=\"fade-up\"><h3>健保有給付中止懷孕的相關費用嗎？</h3><p>如果手術需求是經由醫院檢查確定有符合上述情況的話，手術費用會由健保給付；但是如果是由自己提出的話則需要由自己負擔。</p></li><li class=\"aos-init\" data-aos=\"fade-up\"><h3>我可以到哪些醫院或診所進行手術？</h3><p>若你需要終止初期懷孕的服務，建議你可以直接到<a href=\"https://www.hpa.gov.tw/Pages/Detail.aspx?nodeid=518&amp;pid=552\" target=\"_blank\">「青少年親善醫師門診名單」</a>，找尋離你最近，或是讓你最安心的醫師為你診斷。為了提供青少年良好的醫療環境，專為未滿20歲之青少年、以及20~24歲青年創立親善門診。溫馨的候診空間，讓你安心不焦慮，也非常注重你的隱私權，門診費用都是青少年可負擔得起，若有需要也可以協助你與父母進行溝通。 </p></li><li class=\"aos-init\" data-aos=\"fade-up\"><h3>我沒有錢可以進行手術怎麼辦？</h3><p>目前政府的人工流產補助計劃，只限於沒有健保卡並且是因妨害性自主(被強制性交、誘姦)而受孕之婦女，補助金額最高3000元。若你不符合上述情形，建議你到地方社會局或是社福機構，向他們訴說你的狀況，社工將會依照你的情況，連結適當的資源，千萬不要胡亂吃藥或是尋找密醫，安全和健康才是最重要的。</p></li><li class=\"aos-init\" data-aos=\"fade-up\"><h3>我不敢讓爸媽知道怎麼辦？</h3><p>若你選擇中止懷孕，不管是以吃藥還是手術的方式，只要你未滿20歲都需要法定代理人的同意， 任何人都不可以代簽。但若你擔心父母知道後的反應是你無法因應的， 你可以向校方、社會局或社福機構（如勵馨基金會：<a href=\"https://257085.sfaa.gov.tw\" target=\"_blank\" title=\"未成年懷孕求助站\">未成年懷孕求助網站| 257085.sfaa.gov.tw</a>）尋求協助，向他們訴說你的狀況，讓他們了解家裡的情況以及與家人的關係，社工可以協助你與父母溝通，安撫父母一時之間無法接受的情緒，陪伴你一起面對懷孕的事件。</p></li><li class=\"aos-init\" data-aos=\"fade-up\"><h3>全台青少年親善門診名單：（過去曾提供服務）</h3><p>青少年親善門診強調以尊重、保護及符合青少年權利之心態提供資訊，注重隱私與機密性、保持中立友善、不論斷之心態服務青少年。<br/> 如您想尋求專業的醫學建議，可至您附近的青少年親善門診諮詢。<br/><br/> 來源：國民健康署網站（更新日期：110年03月24日)<br/></p><div class=\"google-rwd\"><iframe height=\"480\" src=\"https://www.google.com/maps/d/embed?mid=19MVZJgDLbwL-5JUn7Cpr3cgSS4XGIVw1\" width=\"640\"></iframe></div></li></ul>]"
      ]
     },
     "execution_count": 11,
     "metadata": {},
     "output_type": "execute_result"
    }
   ],
   "source": [
    "price = Soup.select(\"#\\#app > div > div:nth-child(2) > div:nth-child(7) > main > section.container.step-rwd > div > div.container.step-box > div > div.select-menu > ul \")\n",
    "\n",
    "price"
   ]
  },
  {
   "cell_type": "code",
   "execution_count": 13,
   "metadata": {},
   "outputs": [
    {
     "data": {
      "text/plain": [
       "[<ul class=\"select-item container-inner mt-60\"><li class=\"aos-init\" data-aos=\"fade-up\"><p>不行喔~事後避孕藥是醫師處方籤才能取得，如果自己在藥局購買，可能會買到假藥(非法進口的藥物)喔！</p></li><li class=\"aos-init\" data-aos=\"fade-up\"><p><a class=\"fs-5 text-danger\" href=\"https://reurl.cc/V14eyy\" target=\"_blank\">&gt;&gt; 點我了解更多「避孕藥」相關議題</a></p></li></ul>]"
      ]
     },
     "execution_count": 13,
     "metadata": {},
     "output_type": "execute_result"
    }
   ],
   "source": [
    "price = Soup.select(\"#\\#app > div > div:nth-child(2) > div:nth-child(7) > main > section.container.step-rwd > div > div.container.step-box > div > div.select-menu > ul \")\n",
    "\n",
    "price"
   ]
  },
  {
   "cell_type": "code",
   "execution_count": 14,
   "metadata": {},
   "outputs": [
    {
     "data": {
      "text/plain": [
       "[]"
      ]
     },
     "execution_count": 14,
     "metadata": {},
     "output_type": "execute_result"
    }
   ],
   "source": [
    "price = Soup.select(\"#\\#app > div > div:nth-child(2) > div:nth-child(7) > main > section.container.step-rwd > div > div.container.step-box > div > ul > li > a\")\n",
    "price"
   ]
  },
  {
   "cell_type": "code",
   "execution_count": 35,
   "metadata": {},
   "outputs": [
    {
     "ename": "InvalidSessionIdException",
     "evalue": "Message: invalid session id\nStacktrace:\nBacktrace:\n\tOrdinal0 [0x006BACD3+2075859]\n\tOrdinal0 [0x0064EE61+1633889]\n\tOrdinal0 [0x0054B680+571008]\n\tOrdinal0 [0x0056FBAD+719789]\n\tOrdinal0 [0x00570F3F+724799]\n\tGetHandleVerifier [0x0096EED2+2769538]\n\tGetHandleVerifier [0x00960D95+2711877]\n\tGetHandleVerifier [0x0074A03A+521194]\n\tGetHandleVerifier [0x00748DA0+516432]\n\tOrdinal0 [0x0065682C+1665068]\n\tOrdinal0 [0x0065B128+1683752]\n\tOrdinal0 [0x0065B215+1683989]\n\tOrdinal0 [0x00666484+1729668]\n\tBaseThreadInitThunk [0x7686FA29+25]\n\tRtlGetAppContainerNamedObjectPath [0x77BE7A9E+286]\n\tRtlGetAppContainerNamedObjectPath [0x77BE7A6E+238]\n",
     "output_type": "error",
     "traceback": [
      "\u001b[1;31m---------------------------------------------------------------------------\u001b[0m",
      "\u001b[1;31mInvalidSessionIdException\u001b[0m                 Traceback (most recent call last)",
      "\u001b[1;32mc:\\Users\\cmuh1\\VSCode\\Aragaki Yui\\小蝴蝶.ipynb Cell 15\u001b[0m in \u001b[0;36m<cell line: 15>\u001b[1;34m()\u001b[0m\n\u001b[0;32m     <a href='vscode-notebook-cell:/c%3A/Users/cmuh1/VSCode/Aragaki%20Yui/%E5%B0%8F%E8%9D%B4%E8%9D%B6.ipynb#X20sZmlsZQ%3D%3D?line=14'>15</a>\u001b[0m \u001b[39mfor\u001b[39;00m i \u001b[39min\u001b[39;00m Role:\n\u001b[0;32m     <a href='vscode-notebook-cell:/c%3A/Users/cmuh1/VSCode/Aragaki%20Yui/%E5%B0%8F%E8%9D%B4%E8%9D%B6.ipynb#X20sZmlsZQ%3D%3D?line=15'>16</a>\u001b[0m     url \u001b[39m=\u001b[39m base \u001b[39m+\u001b[39m i\n\u001b[1;32m---> <a href='vscode-notebook-cell:/c%3A/Users/cmuh1/VSCode/Aragaki%20Yui/%E5%B0%8F%E8%9D%B4%E8%9D%B6.ipynb#X20sZmlsZQ%3D%3D?line=16'>17</a>\u001b[0m     web\u001b[39m.\u001b[39;49mget(base)\n\u001b[0;32m     <a href='vscode-notebook-cell:/c%3A/Users/cmuh1/VSCode/Aragaki%20Yui/%E5%B0%8F%E8%9D%B4%E8%9D%B6.ipynb#X20sZmlsZQ%3D%3D?line=17'>18</a>\u001b[0m     page \u001b[39m=\u001b[39m web\u001b[39m.\u001b[39mpage_source\n\u001b[0;32m     <a href='vscode-notebook-cell:/c%3A/Users/cmuh1/VSCode/Aragaki%20Yui/%E5%B0%8F%E8%9D%B4%E8%9D%B6.ipynb#X20sZmlsZQ%3D%3D?line=18'>19</a>\u001b[0m     web\u001b[39m.\u001b[39mclose()\n",
      "File \u001b[1;32mc:\\Users\\cmuh1\\AppData\\Local\\Programs\\Python\\Python310\\lib\\site-packages\\selenium\\webdriver\\remote\\webdriver.py:441\u001b[0m, in \u001b[0;36mWebDriver.get\u001b[1;34m(self, url)\u001b[0m\n\u001b[0;32m    437\u001b[0m \u001b[39mdef\u001b[39;00m \u001b[39mget\u001b[39m(\u001b[39mself\u001b[39m, url: \u001b[39mstr\u001b[39m) \u001b[39m-\u001b[39m\u001b[39m>\u001b[39m \u001b[39mNone\u001b[39;00m:\n\u001b[0;32m    438\u001b[0m     \u001b[39m\"\"\"\u001b[39;00m\n\u001b[0;32m    439\u001b[0m \u001b[39m    Loads a web page in the current browser session.\u001b[39;00m\n\u001b[0;32m    440\u001b[0m \u001b[39m    \"\"\"\u001b[39;00m\n\u001b[1;32m--> 441\u001b[0m     \u001b[39mself\u001b[39;49m\u001b[39m.\u001b[39;49mexecute(Command\u001b[39m.\u001b[39;49mGET, {\u001b[39m'\u001b[39;49m\u001b[39murl\u001b[39;49m\u001b[39m'\u001b[39;49m: url})\n",
      "File \u001b[1;32mc:\\Users\\cmuh1\\AppData\\Local\\Programs\\Python\\Python310\\lib\\site-packages\\selenium\\webdriver\\remote\\webdriver.py:429\u001b[0m, in \u001b[0;36mWebDriver.execute\u001b[1;34m(self, driver_command, params)\u001b[0m\n\u001b[0;32m    427\u001b[0m response \u001b[39m=\u001b[39m \u001b[39mself\u001b[39m\u001b[39m.\u001b[39mcommand_executor\u001b[39m.\u001b[39mexecute(driver_command, params)\n\u001b[0;32m    428\u001b[0m \u001b[39mif\u001b[39;00m response:\n\u001b[1;32m--> 429\u001b[0m     \u001b[39mself\u001b[39;49m\u001b[39m.\u001b[39;49merror_handler\u001b[39m.\u001b[39;49mcheck_response(response)\n\u001b[0;32m    430\u001b[0m     response[\u001b[39m'\u001b[39m\u001b[39mvalue\u001b[39m\u001b[39m'\u001b[39m] \u001b[39m=\u001b[39m \u001b[39mself\u001b[39m\u001b[39m.\u001b[39m_unwrap_value(\n\u001b[0;32m    431\u001b[0m         response\u001b[39m.\u001b[39mget(\u001b[39m'\u001b[39m\u001b[39mvalue\u001b[39m\u001b[39m'\u001b[39m, \u001b[39mNone\u001b[39;00m))\n\u001b[0;32m    432\u001b[0m     \u001b[39mreturn\u001b[39;00m response\n",
      "File \u001b[1;32mc:\\Users\\cmuh1\\AppData\\Local\\Programs\\Python\\Python310\\lib\\site-packages\\selenium\\webdriver\\remote\\errorhandler.py:243\u001b[0m, in \u001b[0;36mErrorHandler.check_response\u001b[1;34m(self, response)\u001b[0m\n\u001b[0;32m    241\u001b[0m         alert_text \u001b[39m=\u001b[39m value[\u001b[39m'\u001b[39m\u001b[39malert\u001b[39m\u001b[39m'\u001b[39m]\u001b[39m.\u001b[39mget(\u001b[39m'\u001b[39m\u001b[39mtext\u001b[39m\u001b[39m'\u001b[39m)\n\u001b[0;32m    242\u001b[0m     \u001b[39mraise\u001b[39;00m exception_class(message, screen, stacktrace, alert_text)  \u001b[39m# type: ignore[call-arg]  # mypy is not smart enough here\u001b[39;00m\n\u001b[1;32m--> 243\u001b[0m \u001b[39mraise\u001b[39;00m exception_class(message, screen, stacktrace)\n",
      "\u001b[1;31mInvalidSessionIdException\u001b[0m: Message: invalid session id\nStacktrace:\nBacktrace:\n\tOrdinal0 [0x006BACD3+2075859]\n\tOrdinal0 [0x0064EE61+1633889]\n\tOrdinal0 [0x0054B680+571008]\n\tOrdinal0 [0x0056FBAD+719789]\n\tOrdinal0 [0x00570F3F+724799]\n\tGetHandleVerifier [0x0096EED2+2769538]\n\tGetHandleVerifier [0x00960D95+2711877]\n\tGetHandleVerifier [0x0074A03A+521194]\n\tGetHandleVerifier [0x00748DA0+516432]\n\tOrdinal0 [0x0065682C+1665068]\n\tOrdinal0 [0x0065B128+1683752]\n\tOrdinal0 [0x0065B215+1683989]\n\tOrdinal0 [0x00666484+1729668]\n\tBaseThreadInitThunk [0x7686FA29+25]\n\tRtlGetAppContainerNamedObjectPath [0x77BE7A9E+286]\n\tRtlGetAppContainerNamedObjectPath [0x77BE7A6E+238]\n"
     ]
    }
   ],
   "source": [
    "web = webdriver.Chrome()\n",
    "base = 'https://paela-iecosystem.meida.tw/'\n",
    "# url = 'https://paela-iecosystem.meida.tw/#/intimacy-4-2'\n",
    "\n",
    "Role = ['unintended-2']\n",
    "# 'youngdad-2'\n",
    "# 'daughter-2'\n",
    "\n",
    "web.get(base)\n",
    "page = web.page_source\n",
    "web.close()\n",
    "\n",
    "Soup = BeautifulSoup(page,\"lxml\")\n",
    "\n",
    "for i in Role:\n",
    "    url = base + i\n",
    "    web.get(base)\n",
    "    page = web.page_source\n",
    "    web.close()\n",
    "    Soup = BeautifulSoup(page,\"lxml\")\n",
    "    Options = Soup.select(\"#\\#app > div > div:nth-child(2) > div:nth-child(7) > main > section.container.step-rwd > div > div.container.step-box > div > ul > li > a\")\n",
    "\n",
    "    "
   ]
  },
  {
   "cell_type": "code",
   "execution_count": 20,
   "metadata": {},
   "outputs": [
    {
     "data": {
      "text/plain": [
       "[]"
      ]
     },
     "execution_count": 20,
     "metadata": {},
     "output_type": "execute_result"
    }
   ],
   "source": []
  },
  {
   "cell_type": "code",
   "execution_count": 33,
   "metadata": {},
   "outputs": [
    {
     "data": {
      "text/plain": [
       "[<section class=\"choose container phone-container\"><img class=\"scroll-word phone-none\" src=\"/img/scroll_word.c55f51ba.svg\" style=\"transform: translate(0px, 0px);\"/><img class=\"pic1 phone-none aos-init\" data-aos=\"fade-up\" src=\"/img/choose_image3.6c60ab0a.svg\"/><img class=\"pic2 phone-none aos-init\" data-aos=\"fade-up\" src=\"/img/choose_image2.1fff64de.svg\"/><img class=\"pic3 phone-none aos-init\" data-aos=\"fade-up\" src=\"/img/choose_image4.9275e7d4.svg\"/><img class=\"pic4 phone-none aos-init\" data-aos=\"fade-up\" src=\"/img/choose_image5.8e637960.svg\"/><img class=\"pic5 phone-none aos-init\" data-aos=\"fade-up\" src=\"/img/choose_image6.99cb3fa2.svg\"/><img class=\"pic6 phone-none aos-init\" data-aos=\"fade-up\" src=\"/img/choose_image7.dbb1cae0.svg\"/><div class=\"text-box\"><p class=\"step-text aos-init\" data-aos=\"fade-up\">STEP 01</p><h2 class=\"sub-title aos-init\" data-aos=\"fade-up\">問・題·選·擇</h2><img class=\"title-line aos-init\" data-aos=\"fade-up\" src=\"/img/choose_title_line.9a9cea74.svg\"/><p class=\"content aos-init\" data-aos=\"fade-up\" id=\"section\">生命的重量不應該只有自己來承擔，有時候簡單的一些行動也能為自己帶來不一樣未來。<br/> 不必覺得自己會成為負擔或是問題，讓我們一起幫妳撐起那生命的重量。</p></div><div class=\"choose-inner\"><h2 class=\"aos-init\" data-aos=\"fade-up\">- 我們提供專屬的<span>匿名</span>個人化智慧服務 -</h2><div class=\"choose-outside-top\"><div class=\"choose-card aos-init\" data-aos=\"fade-up\" data-aos-delay=\"300\"><div class=\"choose-box\"><h3>我意外懷孕了</h3><hr class=\"line\"/><img src=\"/img/choose_pic1.f08f4aee.jpg\"/><p>在這條道路上，<br/>你從來不是獨自一人。</p><a class=\"\" href=\"#/unintended-2\">了解更多</a></div></div><div class=\"choose-card aos-init\" data-aos=\"fade-up\" data-aos-delay=\"500\"><div class=\"choose-box bg-banana\"><h3>女友懷孕了</h3><hr class=\"line\"/><img src=\"/img/choose_pic2.8ab01365.jpg\"/><p>支持與陪伴，<br/>勝過千言萬語。</p><a class=\"\" href=\"#/youngdad-2\">了解更多</a></div></div></div><div class=\"d-flex justify-content-center pb-64 flex-wrap\"><div class=\"choose-card aos-init\" data-aos=\"fade-up\" data-aos-delay=\"300\"><div class=\"choose-box\"><h3>女兒懷孕了</h3><hr class=\"line\"/><img src=\"/img/choose_pic3.d34cbe3b.jpg\"/><p>其實很多所謂的大人，<br/>在面對這種狀況時，顯得更無助。</p><a class=\"\" href=\"#/daughter-2\">了解更多</a></div></div><div class=\"choose-card aos-init\" data-aos=\"fade-up\" data-aos-delay=\"500\"><div class=\"choose-box bg-banana\"><h3>我想支持</h3><hr class=\"line\"/><img src=\"/img/choose_pic5.47b2eace.jpg\"/><p>邀請您把手借給我，<br/>讓暖光持續照亮。</p><a class=\"\" href=\"#/support-2\">了解更多</a></div></div></div></div></section>]"
      ]
     },
     "execution_count": 33,
     "metadata": {},
     "output_type": "execute_result"
    }
   ],
   "source": [
    "Options = Soup.select(\"#\\#app > div > div:nth-child(2) > div:nth-child(7) > main > section.choose.container.phone-container \")\n",
    "Options"
   ]
  },
  {
   "cell_type": "code",
   "execution_count": null,
   "metadata": {},
   "outputs": [],
   "source": []
  }
 ],
 "metadata": {
  "kernelspec": {
   "display_name": "Python 3.10.2 64-bit",
   "language": "python",
   "name": "python3"
  },
  "language_info": {
   "codemirror_mode": {
    "name": "ipython",
    "version": 3
   },
   "file_extension": ".py",
   "mimetype": "text/x-python",
   "name": "python",
   "nbconvert_exporter": "python",
   "pygments_lexer": "ipython3",
   "version": "3.10.2"
  },
  "orig_nbformat": 4,
  "vscode": {
   "interpreter": {
    "hash": "21028b07f43f8532f9b2183370e542e6ccc7383657941d49f9b7b9d87c4222d7"
   }
  }
 },
 "nbformat": 4,
 "nbformat_minor": 2
}
