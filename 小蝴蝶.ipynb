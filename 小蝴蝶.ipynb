{
 "cells": [
  {
   "cell_type": "code",
   "execution_count": 165,
   "metadata": {},
   "outputs": [],
   "source": [
    "import pandas as pd\n",
    "import numpy as np"
   ]
  },
  {
   "cell_type": "code",
   "execution_count": 166,
   "metadata": {},
   "outputs": [],
   "source": [
    "data = pd.read_excel(r'小蝴蝶平台文案-總表.xlsx')"
   ]
  },
  {
   "cell_type": "code",
   "execution_count": 167,
   "metadata": {},
   "outputs": [],
   "source": [
    "unintended = data[data.角色頁碼 == 'unintended-2']\n",
    "youngdad = data[data.角色頁碼 == 'youngdad-2']\n",
    "daughter = data[data.角色頁碼 == 'daughter-2']"
   ]
  },
  {
   "cell_type": "code",
   "execution_count": 14,
   "metadata": {},
   "outputs": [],
   "source": [
    "test = unintended[['角色頁碼', '第一階', '第一階說明', '第一階頁碼', '第二階', '第二階說明', '第二階頁碼',\n",
    "       '第三階', '第三階說明', '第三階頁碼', '第四階', '第四階說明', '第四階頁碼',\n",
    "       '第五階', '第五階說明', '第五階頁碼', '第六階', '第六階說明', '第六階頁碼',\n",
    "       '第七階', '第七階說明', '第七階頁碼',]]"
   ]
  },
  {
   "cell_type": "code",
   "execution_count": 15,
   "metadata": {},
   "outputs": [
    {
     "name": "stderr",
     "output_type": "stream",
     "text": [
      "C:\\Users\\cmuh1\\AppData\\Local\\Temp\\ipykernel_27880\\4042652465.py:1: SettingWithCopyWarning: \n",
      "A value is trying to be set on a copy of a slice from a DataFrame.\n",
      "Try using .loc[row_indexer,col_indexer] = value instead\n",
      "\n",
      "See the caveats in the documentation: https://pandas.pydata.org/pandas-docs/stable/user_guide/indexing.html#returning-a-view-versus-a-copy\n",
      "  test['sum'] = test.角色頁碼 + ',' + test.第一階頁碼 + ',' + test.第二階頁碼 + ',' + test.第三階頁碼\n"
     ]
    }
   ],
   "source": [
    "test['sum'] = test.角色頁碼 + ',' + test.第一階頁碼 + ',' + test.第二階頁碼 + ',' + test.第三階頁碼 \n",
    "# + ',' + test.第四階頁碼 + ',' + test.第五階頁碼 + ',' + test.第六階頁碼 + ',' + test.第七階頁碼 "
   ]
  },
  {
   "cell_type": "code",
   "execution_count": 16,
   "metadata": {},
   "outputs": [],
   "source": [
    "test.to_excel(r'test.xlsx')"
   ]
  },
  {
   "cell_type": "code",
   "execution_count": null,
   "metadata": {},
   "outputs": [],
   "source": []
  },
  {
   "cell_type": "code",
   "execution_count": 17,
   "metadata": {},
   "outputs": [],
   "source": [
    "from selenium import webdriver\n",
    "from bs4 import BeautifulSoup\n",
    "import re"
   ]
  },
  {
   "cell_type": "code",
   "execution_count": null,
   "metadata": {},
   "outputs": [],
   "source": [
    "web = webdriver.Chrome()\n",
    "url = 'https://paela-iecosystem.meida.tw/#/intimacy-4-2'\n",
    "# 'https://paela-iecosystem.meida.tw/#/medical-4-1'\n",
    "# 'https://paela-iecosystem.meida.tw/#/youngdad-4-1'\n",
    "# 'https://paela-iecosystem.meida.tw/#/youngdad-3-4'\n",
    "# 'https://paela-iecosystem.meida.tw/#/unintended-2'\n",
    "\n",
    "web.get(url)\n",
    "page = web.page_source\n",
    "#存檔\n",
    "# fp = open(\"page.html\", \"w+\", encoding='UTF-8')\n",
    "# fp.write(web.page_source)    \n",
    "# fp.close() \n",
    "\n",
    "web.close()\n",
    "\n",
    "Soup = BeautifulSoup(page,\"html.parser\")\n",
    "price = Soup.select(\"#\\#app > div > div:nth-child(2) > div:nth-child(7) > main > section.container.step-rwd > div > div.container.step-box > div > ul > li > a\")\n"
   ]
  },
  {
   "cell_type": "code",
   "execution_count": null,
   "metadata": {},
   "outputs": [
    {
     "data": {
      "text/plain": [
       "[<a class=\"\" href=\"#/youngdad-4-1\">醫療議題</a>,\n",
       " <a class=\"\" href=\"#/youngdad-4-2\">法律議題</a>,\n",
       " <a class=\"\" href=\"#/familyRelation-4-4\">家庭關係</a>,\n",
       " <a class=\"\" href=\"#/intimacy-3-1\">親密關係</a>]"
      ]
     },
     "execution_count": 92,
     "metadata": {},
     "output_type": "execute_result"
    }
   ],
   "source": [
    "price"
   ]
  },
  {
   "cell_type": "code",
   "execution_count": null,
   "metadata": {},
   "outputs": [
    {
     "data": {
      "text/plain": [
       "[<a class=\"\" href=\"#/medical-4-1\">我女友可以中止懷孕嗎？</a>,\n",
       " <a class=\"\" href=\"#/intimacy-4-2\">可以買事後避孕藥嗎？</a>,\n",
       " <a class=\"\" href=\"#/act-3-1\">未成年拿避孕藥會被通報？</a>,\n",
       " <a class=\"\" href=\"#/medical-4-8\">如何驗孕 / 就醫</a>,\n",
       " <a class=\"\" href=\"#/medical-4-8\">保險套戴反了</a>,\n",
       " <a class=\"\" href=\"#/medical-4-8\">懷孕前的徵兆？</a>,\n",
       " <a class=\"\" href=\"#/medical-4-8\">保險套破了</a>,\n",
       " <a class=\"\" href=\"#/medical-4-9\">吃避孕藥，月經沒來？</a>,\n",
       " <a class=\"\" href=\"#/medical-4-10\">懷孕週數怎麼算？</a>,\n",
       " <a class=\"\" href=\"#/medical-4-11\">假性月經是什麼？</a>]"
      ]
     },
     "execution_count": 95,
     "metadata": {},
     "output_type": "execute_result"
    }
   ],
   "source": [
    "price"
   ]
  },
  {
   "cell_type": "code",
   "execution_count": null,
   "metadata": {},
   "outputs": [
    {
     "name": "stdout",
     "output_type": "stream",
     "text": [
      "不行喔~事後避孕藥是醫師處方籤才能取得，如果自己在藥局購買，可能會買到假藥(非法進口的藥物)喔！>> 點我了解更多「避孕藥」相關議題\n"
     ]
    }
   ],
   "source": [
    "price = Soup.select(\"#\\#app > div > div:nth-child(2) > div:nth-child(7) > main > section.container.step-rwd > div > div.container.step-box > div > div.select-menu > ul\")\n",
    "for i in price:\n",
    "    print(i.text)\n",
    "# p = Soup.find_all('p')\n",
    "# for i in p:\n",
    "#     print(i.getText())"
   ]
  },
  {
   "cell_type": "code",
   "execution_count": null,
   "metadata": {},
   "outputs": [
    {
     "data": {
      "text/plain": [
       "[<ul class=\"select-item container-inner mt-60\"><li class=\"aos-init\" data-aos=\"fade-up\"><p>不行喔~事後避孕藥是醫師處方籤才能取得，如果自己在藥局購買，可能會買到假藥(非法進口的藥物)喔！</p></li><li class=\"aos-init\" data-aos=\"fade-up\"><p><a class=\"fs-5 text-danger\" href=\"https://reurl.cc/V14eyy\" target=\"_blank\">&gt;&gt; 點我了解更多「避孕藥」相關議題</a></p></li></ul>]"
      ]
     },
     "execution_count": 13,
     "metadata": {},
     "output_type": "execute_result"
    }
   ],
   "source": [
    "price = Soup.select(\"#\\#app > div > div:nth-child(2) > div:nth-child(7) > main > section.container.step-rwd > div > div.container.step-box > div > div.select-menu > ul \")\n",
    "\n",
    "price"
   ]
  },
  {
   "cell_type": "code",
   "execution_count": null,
   "metadata": {},
   "outputs": [
    {
     "data": {
      "text/plain": [
       "[]"
      ]
     },
     "execution_count": 14,
     "metadata": {},
     "output_type": "execute_result"
    }
   ],
   "source": [
    "price = Soup.select(\"#\\#app > div > div:nth-child(2) > div:nth-child(7) > main > section.container.step-rwd > div > div.container.step-box > div > ul > li > a\")\n",
    "price"
   ]
  },
  {
   "cell_type": "code",
   "execution_count": 188,
   "metadata": {},
   "outputs": [],
   "source": [
    "from selenium import webdriver\n",
    "from bs4 import BeautifulSoup\n",
    "import re\n",
    "import time\n",
    "import json\n",
    "\n",
    "web = webdriver.Chrome()\n",
    "base = 'https://paela-iecosystem.meida.tw/'\n",
    "# url = 'https://paela-iecosystem.meida.tw/#/intimacy-4-2'\n",
    "\n",
    "Role = ['#/unintended-2']\n",
    "zh = ['我意外懷孕了']\n",
    "# 'youngdad-2'\n",
    "# 'daughter-2'\n",
    "string = []\n",
    "for k in Role:\n",
    "    url = base + k\n",
    "    web.get(url)\n",
    "    time.sleep(1)\n",
    "    page = web.page_source\n",
    "    Soup = BeautifulSoup(page,\"lxml\")\n",
    "    State1 = Soup.select(\"#\\#app > div > div:nth-child(2) > div:nth-child(7) > main > section.container.step-rwd > div > div.container.step-box > div > ul > li > a\")\n",
    "    for i, j in enumerate(State1):\n",
    "        Options = State1[i]['href']\n",
    "        url = base + Options\n",
    "        web.get(url)\n",
    "        time.sleep(1)\n",
    "        page = web.page_source\n",
    "        Soup = BeautifulSoup(page,\"lxml\")\n",
    "        State2 = Soup.select(\"#\\#app > div > div:nth-child(2) > div:nth-child(7) > main > section.container.step-rwd > div > div.container.step-box > div > ul > li > a\")\n",
    "        for m, n in enumerate(State2):\n",
    "            Options2 = State2[m]['href']\n",
    "            url = base + Options2\n",
    "            web.get(url)\n",
    "            time.sleep(1)\n",
    "            page = web.page_source\n",
    "            Soup = BeautifulSoup(page,\"lxml\")\n",
    "            State3 = Soup.select(\"#\\#app > div > div:nth-child(2) > div:nth-child(7) > main > section.container.step-rwd > div > div.container.step-box > div > ul > li > a\")\n",
    "            for o, p in enumerate(State3):\n",
    "                string.append(Role[0] + ', ' + zh[0] + ', '   \n",
    "                                + State1[i]['href'] + ', ' + State1[i].text + ', '   \n",
    "                                + State2[m]['href'] + ', ' + State2[m].text + ', '   \n",
    "                                + State3[o]['href'] + ', ' + State3[o].text )"
   ]
  },
  {
   "cell_type": "code",
   "execution_count": 197,
   "metadata": {},
   "outputs": [
    {
     "data": {
      "text/plain": [
       "'#/chat, 我需要幫助'"
      ]
     },
     "execution_count": 197,
     "metadata": {},
     "output_type": "execute_result"
    }
   ],
   "source": [
    "State2[m]['href'] + ', ' + State2[m].text"
   ]
  },
  {
   "cell_type": "code",
   "execution_count": 199,
   "metadata": {},
   "outputs": [
    {
     "name": "stdout",
     "output_type": "stream",
     "text": [
      "[\"#/unintended-2\", \" 我意外懷孕了\", \" #/talking-3\", \" 我不知道該怎麼做\", \" #/medical-3-1\", \" 醫療議題\", \" #/medical-4-1\", \" 我可以中止懷孕嗎？\"]\n"
     ]
    }
   ],
   "source": [
    "import json\n",
    "jsonString = json.dumps(unintended.iloc[0, 0].split(sep=','), ensure_ascii=False)\n",
    "for key, value"
   ]
  },
  {
   "cell_type": "code",
   "execution_count": 198,
   "metadata": {},
   "outputs": [
    {
     "data": {
      "text/plain": [
       "'[{\"title\": {\"title\": \"2\"}, \"title2\": \"3\"}, {\"title\": \"2\"}]'"
      ]
     },
     "execution_count": 198,
     "metadata": {},
     "output_type": "execute_result"
    }
   ],
   "source": [
    "str2 = {'title':'2'}\n",
    "str1 = {'title': str2, 'title2':'3'}\n",
    "jsonString = json.dumps([str1, str2])\n",
    "jsonString"
   ]
  },
  {
   "cell_type": "code",
   "execution_count": 129,
   "metadata": {},
   "outputs": [
    {
     "data": {
      "text/plain": [
       "[<a class=\"\" href=\"#/talking-3\">我不知道該怎麼做</a>,\n",
       " <a class=\"\" href=\"#/unintended-3-1\">我想要生下來</a>,\n",
       " <a class=\"\" href=\"#/unintended-3-1\">我只能選擇生下來</a>,\n",
       " <a class=\"\" href=\"#/unintended-3-2\">我還沒準備好生下來</a>]"
      ]
     },
     "execution_count": 129,
     "metadata": {},
     "output_type": "execute_result"
    }
   ],
   "source": [
    "\n",
    "State1"
   ]
  },
  {
   "cell_type": "code",
   "execution_count": 131,
   "metadata": {},
   "outputs": [
    {
     "data": {
      "text/plain": [
       "[<a class=\"\" href=\"#/unintended-4-3\">終止懷孕</a>,\n",
       " <a class=\"\" href=\"#/medical-4-6\">醫療議題</a>,\n",
       " <a class=\"\" href=\"#/act-3-1-2\">法律議題</a>,\n",
       " <a class=\"\" href=\"#/MentalCare-4-3\">身心照顧</a>,\n",
       " <a class=\"\" href=\"#/FamilyRelation-3-2\">家庭關係</a>,\n",
       " <a class=\"\" href=\"#/chat\">我需要幫助</a>]"
      ]
     },
     "execution_count": 131,
     "metadata": {},
     "output_type": "execute_result"
    }
   ],
   "source": [
    "State2"
   ]
  },
  {
   "cell_type": "code",
   "execution_count": 159,
   "metadata": {},
   "outputs": [
    {
     "data": {
      "text/plain": [
       "[<a class=\"\" href=\"#/medical-4-1\">我可以中止懷孕嗎？</a>,\n",
       " <a class=\"\" href=\"#/medical-4-7\">可以買事後避孕藥嗎？</a>,\n",
       " <a class=\"\" href=\"#/act-3-1\">未成年拿避孕藥會被通報？</a>,\n",
       " <a class=\"\" href=\"#/medical-4-8\">如何驗孕 / 就醫</a>,\n",
       " <a class=\"\" href=\"#/medical-4-8\">保險套戴反了</a>,\n",
       " <a class=\"\" href=\"#/medical-4-8\">懷孕前的徵兆？</a>,\n",
       " <a class=\"\" href=\"#/medical-4-8\">保險套破了</a>,\n",
       " <a class=\"\" href=\"#/medical-4-9\">吃避孕藥，月經沒來？</a>,\n",
       " <a class=\"\" href=\"#/medical-4-10\">懷孕週數怎麼算？</a>,\n",
       " <a class=\"\" href=\"#/medical-4-11\">假性月經是什麼？</a>]"
      ]
     },
     "execution_count": 159,
     "metadata": {},
     "output_type": "execute_result"
    }
   ],
   "source": [
    "State3"
   ]
  },
  {
   "cell_type": "code",
   "execution_count": null,
   "metadata": {},
   "outputs": [
    {
     "data": {
      "text/plain": [
       "[<a class=\"\" href=\"#/unintended-4-3\">終止懷孕</a>,\n",
       " <a class=\"\" href=\"#/medical-4-6\">醫療議題</a>,\n",
       " <a class=\"\" href=\"#/act-3-1-2\">法律議題</a>,\n",
       " <a class=\"\" href=\"#/MentalCare-4-3\">身心照顧</a>,\n",
       " <a class=\"\" href=\"#/FamilyRelation-3-2\">家庭關係</a>,\n",
       " <a class=\"\" href=\"#/chat\">我需要幫助</a>]"
      ]
     },
     "execution_count": 4,
     "metadata": {},
     "output_type": "execute_result"
    }
   ],
   "source": [
    "State2"
   ]
  },
  {
   "cell_type": "code",
   "execution_count": null,
   "metadata": {},
   "outputs": [
    {
     "ename": "TypeError",
     "evalue": "expected string or bytes-like object",
     "output_type": "error",
     "traceback": [
      "\u001b[1;31m---------------------------------------------------------------------------\u001b[0m",
      "\u001b[1;31mTypeError\u001b[0m                                 Traceback (most recent call last)",
      "\u001b[1;32mc:\\Users\\cmuh1\\VSCode\\Aragaki Yui\\小蝴蝶.ipynb Cell 16\u001b[0m in \u001b[0;36m<cell line: 1>\u001b[1;34m()\u001b[0m\n\u001b[0;32m      <a href='vscode-notebook-cell:/c%3A/Users/cmuh1/VSCode/Aragaki%20Yui/%E5%B0%8F%E8%9D%B4%E8%9D%B6.ipynb#X21sZmlsZQ%3D%3D?line=0'>1</a>\u001b[0m \u001b[39mfor\u001b[39;00m i \u001b[39min\u001b[39;00m State1:\n\u001b[1;32m----> <a href='vscode-notebook-cell:/c%3A/Users/cmuh1/VSCode/Aragaki%20Yui/%E5%B0%8F%E8%9D%B4%E8%9D%B6.ipynb#X21sZmlsZQ%3D%3D?line=1'>2</a>\u001b[0m     Options \u001b[39m=\u001b[39m re\u001b[39m.\u001b[39;49msearch(\u001b[39m\"\u001b[39;49m\u001b[39m/href=\u001b[39;49m\u001b[39m'\u001b[39;49m\u001b[39m(.*)\u001b[39;49m\u001b[39m'\u001b[39;49m\u001b[39m/\u001b[39;49m\u001b[39m\"\u001b[39;49m, i)\n\u001b[0;32m      <a href='vscode-notebook-cell:/c%3A/Users/cmuh1/VSCode/Aragaki%20Yui/%E5%B0%8F%E8%9D%B4%E8%9D%B6.ipynb#X21sZmlsZQ%3D%3D?line=2'>3</a>\u001b[0m     \u001b[39mprint\u001b[39m(Options)\n",
      "File \u001b[1;32mc:\\Users\\cmuh1\\AppData\\Local\\Programs\\Python\\Python310\\lib\\re.py:200\u001b[0m, in \u001b[0;36msearch\u001b[1;34m(pattern, string, flags)\u001b[0m\n\u001b[0;32m    197\u001b[0m \u001b[39mdef\u001b[39;00m \u001b[39msearch\u001b[39m(pattern, string, flags\u001b[39m=\u001b[39m\u001b[39m0\u001b[39m):\n\u001b[0;32m    198\u001b[0m     \u001b[39m\"\"\"Scan through string looking for a match to the pattern, returning\u001b[39;00m\n\u001b[0;32m    199\u001b[0m \u001b[39m    a Match object, or None if no match was found.\"\"\"\u001b[39;00m\n\u001b[1;32m--> 200\u001b[0m     \u001b[39mreturn\u001b[39;00m _compile(pattern, flags)\u001b[39m.\u001b[39;49msearch(string)\n",
      "\u001b[1;31mTypeError\u001b[0m: expected string or bytes-like object"
     ]
    }
   ],
   "source": [
    "for i in State1:\n",
    "    Options = State1[i]['href']\n",
    "    url = base + Options\n",
    "    web.get(url)\n",
    "    page = web.page_source\n",
    "    web.close()\n",
    "    Soup = BeautifulSoup(page,\"lxml\")\n",
    "    State2 = Soup.select(\"#\\#app > div > div:nth-child(2) > div:nth-child(7) > main > section.container.step-rwd > div > div.container.step-box > div > ul > li > a\")\n"
   ]
  },
  {
   "cell_type": "code",
   "execution_count": null,
   "metadata": {},
   "outputs": [
    {
     "data": {
      "text/plain": [
       "[<a class=\"\" href=\"#/talking-3\">我不知道該怎麼做</a>,\n",
       " <a class=\"\" href=\"#/unintended-3-1\">我想要生下來</a>,\n",
       " <a class=\"\" href=\"#/unintended-3-1\">我只能選擇生下來</a>,\n",
       " <a class=\"\" href=\"#/unintended-3-2\">我還沒準備好生下來</a>]"
      ]
     },
     "execution_count": 19,
     "metadata": {},
     "output_type": "execute_result"
    }
   ],
   "source": [
    "State1"
   ]
  },
  {
   "cell_type": "code",
   "execution_count": null,
   "metadata": {},
   "outputs": [
    {
     "data": {
      "text/plain": [
       "[<section class=\"choose container phone-container\"><img class=\"scroll-word phone-none\" src=\"/img/scroll_word.c55f51ba.svg\" style=\"transform: translate(0px, 0px);\"/><img class=\"pic1 phone-none aos-init\" data-aos=\"fade-up\" src=\"/img/choose_image3.6c60ab0a.svg\"/><img class=\"pic2 phone-none aos-init\" data-aos=\"fade-up\" src=\"/img/choose_image2.1fff64de.svg\"/><img class=\"pic3 phone-none aos-init\" data-aos=\"fade-up\" src=\"/img/choose_image4.9275e7d4.svg\"/><img class=\"pic4 phone-none aos-init\" data-aos=\"fade-up\" src=\"/img/choose_image5.8e637960.svg\"/><img class=\"pic5 phone-none aos-init\" data-aos=\"fade-up\" src=\"/img/choose_image6.99cb3fa2.svg\"/><img class=\"pic6 phone-none aos-init\" data-aos=\"fade-up\" src=\"/img/choose_image7.dbb1cae0.svg\"/><div class=\"text-box\"><p class=\"step-text aos-init\" data-aos=\"fade-up\">STEP 01</p><h2 class=\"sub-title aos-init\" data-aos=\"fade-up\">問・題·選·擇</h2><img class=\"title-line aos-init\" data-aos=\"fade-up\" src=\"/img/choose_title_line.9a9cea74.svg\"/><p class=\"content aos-init\" data-aos=\"fade-up\" id=\"section\">生命的重量不應該只有自己來承擔，有時候簡單的一些行動也能為自己帶來不一樣未來。<br/> 不必覺得自己會成為負擔或是問題，讓我們一起幫妳撐起那生命的重量。</p></div><div class=\"choose-inner\"><h2 class=\"aos-init\" data-aos=\"fade-up\">- 我們提供專屬的<span>匿名</span>個人化智慧服務 -</h2><div class=\"choose-outside-top\"><div class=\"choose-card aos-init\" data-aos=\"fade-up\" data-aos-delay=\"300\"><div class=\"choose-box\"><h3>我意外懷孕了</h3><hr class=\"line\"/><img src=\"/img/choose_pic1.f08f4aee.jpg\"/><p>在這條道路上，<br/>你從來不是獨自一人。</p><a class=\"\" href=\"#/unintended-2\">了解更多</a></div></div><div class=\"choose-card aos-init\" data-aos=\"fade-up\" data-aos-delay=\"500\"><div class=\"choose-box bg-banana\"><h3>女友懷孕了</h3><hr class=\"line\"/><img src=\"/img/choose_pic2.8ab01365.jpg\"/><p>支持與陪伴，<br/>勝過千言萬語。</p><a class=\"\" href=\"#/youngdad-2\">了解更多</a></div></div></div><div class=\"d-flex justify-content-center pb-64 flex-wrap\"><div class=\"choose-card aos-init\" data-aos=\"fade-up\" data-aos-delay=\"300\"><div class=\"choose-box\"><h3>女兒懷孕了</h3><hr class=\"line\"/><img src=\"/img/choose_pic3.d34cbe3b.jpg\"/><p>其實很多所謂的大人，<br/>在面對這種狀況時，顯得更無助。</p><a class=\"\" href=\"#/daughter-2\">了解更多</a></div></div><div class=\"choose-card aos-init\" data-aos=\"fade-up\" data-aos-delay=\"500\"><div class=\"choose-box bg-banana\"><h3>我想支持</h3><hr class=\"line\"/><img src=\"/img/choose_pic5.47b2eace.jpg\"/><p>邀請您把手借給我，<br/>讓暖光持續照亮。</p><a class=\"\" href=\"#/support-2\">了解更多</a></div></div></div></div></section>]"
      ]
     },
     "execution_count": 33,
     "metadata": {},
     "output_type": "execute_result"
    }
   ],
   "source": [
    "Options = Soup.select(\"#\\#app > div > div:nth-child(2) > div:nth-child(7) > main > section.choose.container.phone-container \")\n",
    "Options"
   ]
  },
  {
   "cell_type": "code",
   "execution_count": null,
   "metadata": {},
   "outputs": [],
   "source": []
  },
  {
   "cell_type": "markdown",
   "metadata": {},
   "source": [
    "# 20221111"
   ]
  },
  {
   "cell_type": "code",
   "execution_count": 61,
   "metadata": {},
   "outputs": [],
   "source": [
    "import pandas as pd\n",
    "import numpy as np\n",
    "from selenium import webdriver\n",
    "from bs4 import BeautifulSoup\n",
    "import re\n",
    "import time"
   ]
  },
  {
   "cell_type": "code",
   "execution_count": 62,
   "metadata": {},
   "outputs": [],
   "source": [
    "data = pd.read_excel(r'小蝴蝶平台文案-總表 - 複製.xlsx')"
   ]
  },
  {
   "cell_type": "code",
   "execution_count": 63,
   "metadata": {},
   "outputs": [
    {
     "data": {
      "text/html": [
       "<div>\n",
       "<style scoped>\n",
       "    .dataframe tbody tr th:only-of-type {\n",
       "        vertical-align: middle;\n",
       "    }\n",
       "\n",
       "    .dataframe tbody tr th {\n",
       "        vertical-align: top;\n",
       "    }\n",
       "\n",
       "    .dataframe thead th {\n",
       "        text-align: right;\n",
       "    }\n",
       "</style>\n",
       "<table border=\"1\" class=\"dataframe\">\n",
       "  <thead>\n",
       "    <tr style=\"text-align: right;\">\n",
       "      <th></th>\n",
       "      <th>第四階頁碼</th>\n",
       "      <th>Content</th>\n",
       "    </tr>\n",
       "  </thead>\n",
       "  <tbody>\n",
       "    <tr>\n",
       "      <th>0</th>\n",
       "      <td>act-4-1</td>\n",
       "      <td></td>\n",
       "    </tr>\n",
       "    <tr>\n",
       "      <th>1</th>\n",
       "      <td>act-4-3</td>\n",
       "      <td></td>\n",
       "    </tr>\n",
       "    <tr>\n",
       "      <th>2</th>\n",
       "      <td>act-4-3-1</td>\n",
       "      <td></td>\n",
       "    </tr>\n",
       "    <tr>\n",
       "      <th>3</th>\n",
       "      <td>act-4-5</td>\n",
       "      <td></td>\n",
       "    </tr>\n",
       "    <tr>\n",
       "      <th>4</th>\n",
       "      <td>act-5-1</td>\n",
       "      <td></td>\n",
       "    </tr>\n",
       "  </tbody>\n",
       "</table>\n",
       "</div>"
      ],
      "text/plain": [
       "       第四階頁碼 Content\n",
       "0    act-4-1        \n",
       "1    act-4-3        \n",
       "2  act-4-3-1        \n",
       "3    act-4-5        \n",
       "4    act-5-1        "
      ]
     },
     "execution_count": 63,
     "metadata": {},
     "output_type": "execute_result"
    }
   ],
   "source": [
    "data['Content'] = ''\n",
    "data.head(5)"
   ]
  },
  {
   "cell_type": "code",
   "execution_count": 67,
   "metadata": {},
   "outputs": [],
   "source": [
    "web = webdriver.Chrome()\n",
    "base = 'https://paela-iecosystem.meida.tw/#/'\n",
    "for i in range(len(data)):\n",
    "    url = base + data.iloc[i, 0]\n",
    "    web.get(url)\n",
    "    time.sleep(2)\n",
    "    page = web.page_source\n",
    "    \n",
    "\n",
    "    Soup = BeautifulSoup(page,\"lxml\")\n",
    "    # Content = Soup.select(\"#\\#app > div > div:nth-child(2) > div:nth-child(7) > main > section.container.step-rwd > div > div.container.step-box > div > div.select-menu > ul \")\n",
    "    # data.iloc[i, 1] = str(Content)\n",
    "\n",
    "    Content = Soup.select(\"#\\#app > div > div:nth-child(2) > div:nth-child(7) > main > section.container.step-rwd > div > div.container.step-box > div > div.select-menu > ul > li \")\n",
    "    data.iloc[i, 1] = str(Content)\n",
    "web.close()"
   ]
  },
  {
   "cell_type": "code",
   "execution_count": 123,
   "metadata": {},
   "outputs": [
    {
     "data": {
      "text/html": [
       "<div>\n",
       "<style scoped>\n",
       "    .dataframe tbody tr th:only-of-type {\n",
       "        vertical-align: middle;\n",
       "    }\n",
       "\n",
       "    .dataframe tbody tr th {\n",
       "        vertical-align: top;\n",
       "    }\n",
       "\n",
       "    .dataframe thead th {\n",
       "        text-align: right;\n",
       "    }\n",
       "</style>\n",
       "<table border=\"1\" class=\"dataframe\">\n",
       "  <thead>\n",
       "    <tr style=\"text-align: right;\">\n",
       "      <th></th>\n",
       "      <th>第四階頁碼</th>\n",
       "      <th>Content</th>\n",
       "    </tr>\n",
       "  </thead>\n",
       "  <tbody>\n",
       "    <tr>\n",
       "      <th>0</th>\n",
       "      <td>act-4-1</td>\n",
       "      <td>[&lt;li class=\"aos-init\" data-aos=\"fade-up\"&gt;&lt;h3&gt;未...</td>\n",
       "    </tr>\n",
       "    <tr>\n",
       "      <th>1</th>\n",
       "      <td>act-4-3</td>\n",
       "      <td>[&lt;li class=\"aos-init\" data-aos=\"fade-up\"&gt;&lt;p&gt;想必...</td>\n",
       "    </tr>\n",
       "    <tr>\n",
       "      <th>2</th>\n",
       "      <td>act-4-3-1</td>\n",
       "      <td>[&lt;li class=\"aos-init\" data-aos=\"fade-up\"&gt;&lt;p&gt;想必...</td>\n",
       "    </tr>\n",
       "    <tr>\n",
       "      <th>3</th>\n",
       "      <td>act-4-5</td>\n",
       "      <td>[&lt;li class=\"aos-init\" data-aos=\"fade-up\"&gt;&lt;p&gt;若你...</td>\n",
       "    </tr>\n",
       "    <tr>\n",
       "      <th>4</th>\n",
       "      <td>act-5-1</td>\n",
       "      <td>[&lt;li class=\"aos-init\" data-aos=\"fade-up\"&gt;&lt;h3&gt;進...</td>\n",
       "    </tr>\n",
       "    <tr>\n",
       "      <th>5</th>\n",
       "      <td>act-5-1-1</td>\n",
       "      <td>[&lt;li class=\"aos-init\" data-aos=\"fade-up\"&gt;&lt;h3&gt;小...</td>\n",
       "    </tr>\n",
       "    <tr>\n",
       "      <th>6</th>\n",
       "      <td>act-5-2</td>\n",
       "      <td>[&lt;li class=\"aos-init\" data-aos=\"fade-up\"&gt;&lt;h3&gt;(...</td>\n",
       "    </tr>\n",
       "    <tr>\n",
       "      <th>7</th>\n",
       "      <td>act-5-3</td>\n",
       "      <td>[&lt;li class=\"aos-init\" data-aos=\"fade-up\"&gt;&lt;h3&gt;被...</td>\n",
       "    </tr>\n",
       "    <tr>\n",
       "      <th>8</th>\n",
       "      <td>act-5-5</td>\n",
       "      <td>[&lt;li class=\"aos-init\" data-aos=\"fade-up\"&gt;&lt;h3&gt;監...</td>\n",
       "    </tr>\n",
       "    <tr>\n",
       "      <th>9</th>\n",
       "      <td>economy-5-1</td>\n",
       "      <td>[&lt;li class=\"aos-init\" data-aos=\"fade-up\"&gt;&lt;h3&gt;社...</td>\n",
       "    </tr>\n",
       "    <tr>\n",
       "      <th>10</th>\n",
       "      <td>economy-5-2</td>\n",
       "      <td>[&lt;li class=\"aos-init\" data-aos=\"fade-up\"&gt;&lt;h3&gt;生...</td>\n",
       "    </tr>\n",
       "    <tr>\n",
       "      <th>11</th>\n",
       "      <td>economy-5-3</td>\n",
       "      <td>[&lt;li class=\"aos-init\" data-aos=\"fade-up\"&gt;&lt;h3&gt;托...</td>\n",
       "    </tr>\n",
       "    <tr>\n",
       "      <th>12</th>\n",
       "      <td>familyRelation-4-1</td>\n",
       "      <td>[&lt;li class=\"aos-init\" data-aos=\"fade-up\"&gt;&lt;h3&gt;如...</td>\n",
       "    </tr>\n",
       "    <tr>\n",
       "      <th>13</th>\n",
       "      <td>familyRelation-4-3</td>\n",
       "      <td>[&lt;li class=\"aos-init\" data-aos=\"fade-up\"&gt;&lt;p&gt;父母...</td>\n",
       "    </tr>\n",
       "    <tr>\n",
       "      <th>14</th>\n",
       "      <td>familyRelation-4-5</td>\n",
       "      <td>[&lt;li class=\"aos-init\" data-aos=\"fade-up\"&gt;&lt;p&gt;性教...</td>\n",
       "    </tr>\n",
       "    <tr>\n",
       "      <th>15</th>\n",
       "      <td>familyRelation-4-6</td>\n",
       "      <td>[&lt;li class=\"aos-init\" data-aos=\"fade-up\"&gt;&lt;p&gt;依據...</td>\n",
       "    </tr>\n",
       "    <tr>\n",
       "      <th>16</th>\n",
       "      <td>familyRelation-4-7</td>\n",
       "      <td>[&lt;li class=\"aos-init\" data-aos=\"fade-up\"&gt;&lt;h3&gt;我...</td>\n",
       "    </tr>\n",
       "    <tr>\n",
       "      <th>17</th>\n",
       "      <td>familyRelation-5-1</td>\n",
       "      <td>[&lt;li class=\"aos-init\" data-aos=\"fade-up\"&gt;&lt;h3&gt;準...</td>\n",
       "    </tr>\n",
       "    <tr>\n",
       "      <th>18</th>\n",
       "      <td>familyRelation-5-2</td>\n",
       "      <td>[&lt;li class=\"aos-init\" data-aos=\"fade-up\"&gt;&lt;p&gt;如果...</td>\n",
       "    </tr>\n",
       "    <tr>\n",
       "      <th>19</th>\n",
       "      <td>familyRelation-5-3</td>\n",
       "      <td>[&lt;li class=\"aos-init\" data-aos=\"fade-up\"&gt;&lt;h3&gt;監...</td>\n",
       "    </tr>\n",
       "    <tr>\n",
       "      <th>20</th>\n",
       "      <td>familyRelation-5-4</td>\n",
       "      <td>[&lt;li class=\"aos-init\" data-aos=\"fade-up\"&gt;&lt;h3&gt;是...</td>\n",
       "    </tr>\n",
       "    <tr>\n",
       "      <th>21</th>\n",
       "      <td>familyRelation-5-5</td>\n",
       "      <td>[&lt;li class=\"aos-init\" data-aos=\"fade-up\"&gt;&lt;p&gt;我的...</td>\n",
       "    </tr>\n",
       "    <tr>\n",
       "      <th>22</th>\n",
       "      <td>heartTohearts-5-1</td>\n",
       "      <td>[&lt;li class=\"aos-init\" data-aos=\"fade-up\"&gt;&lt;h3&gt;懷...</td>\n",
       "    </tr>\n",
       "    <tr>\n",
       "      <th>23</th>\n",
       "      <td>intimacy-4-1</td>\n",
       "      <td>[&lt;li class=\"aos-init\" data-aos=\"fade-up\"&gt;&lt;p&gt;法律...</td>\n",
       "    </tr>\n",
       "    <tr>\n",
       "      <th>24</th>\n",
       "      <td>intimacy-4-2</td>\n",
       "      <td>[&lt;li class=\"aos-init\" data-aos=\"fade-up\"&gt;&lt;p&gt;不行...</td>\n",
       "    </tr>\n",
       "    <tr>\n",
       "      <th>25</th>\n",
       "      <td>intimacy-4-3</td>\n",
       "      <td>[&lt;li class=\"aos-init\" data-aos=\"fade-up\"&gt;&lt;p&gt;不論...</td>\n",
       "    </tr>\n",
       "    <tr>\n",
       "      <th>26</th>\n",
       "      <td>intimacy-4-4</td>\n",
       "      <td>[&lt;li class=\"aos-init\" data-aos=\"fade-up\"&gt;&lt;p&gt;在交...</td>\n",
       "    </tr>\n",
       "    <tr>\n",
       "      <th>27</th>\n",
       "      <td>intimacy-4-5</td>\n",
       "      <td>[&lt;li class=\"aos-init\" data-aos=\"fade-up\"&gt;&lt;p&gt;在交...</td>\n",
       "    </tr>\n",
       "    <tr>\n",
       "      <th>28</th>\n",
       "      <td>medical-4-1</td>\n",
       "      <td>[&lt;li class=\"aos-init\" data-aos=\"fade-up\"&gt;&lt;h3&gt;什...</td>\n",
       "    </tr>\n",
       "    <tr>\n",
       "      <th>29</th>\n",
       "      <td>medical-4-10</td>\n",
       "      <td>[&lt;li class=\"aos-init\" data-aos=\"fade-up\"&gt;&lt;p&gt;從上...</td>\n",
       "    </tr>\n",
       "    <tr>\n",
       "      <th>30</th>\n",
       "      <td>medical-4-11</td>\n",
       "      <td>[&lt;li class=\"aos-init\" data-aos=\"fade-up\"&gt;&lt;p&gt;有時...</td>\n",
       "    </tr>\n",
       "    <tr>\n",
       "      <th>31</th>\n",
       "      <td>medical-4-2</td>\n",
       "      <td>[&lt;li class=\"aos-init\" data-aos=\"fade-up\"&gt;&lt;h3&gt;準...</td>\n",
       "    </tr>\n",
       "    <tr>\n",
       "      <th>32</th>\n",
       "      <td>medical-4-3</td>\n",
       "      <td>[&lt;li class=\"aos-init\" data-aos=\"fade-up\"&gt;&lt;img ...</td>\n",
       "    </tr>\n",
       "    <tr>\n",
       "      <th>33</th>\n",
       "      <td>medical-4-4</td>\n",
       "      <td>[&lt;li class=\"aos-init\" data-aos=\"fade-up\"&gt;&lt;h3&gt;規...</td>\n",
       "    </tr>\n",
       "    <tr>\n",
       "      <th>34</th>\n",
       "      <td>medical-4-5</td>\n",
       "      <td>[&lt;li class=\"aos-init\" data-aos=\"fade-up\"&gt;&lt;p&gt;產檢...</td>\n",
       "    </tr>\n",
       "    <tr>\n",
       "      <th>35</th>\n",
       "      <td>medical-4-7</td>\n",
       "      <td>[&lt;li class=\"aos-init\" data-aos=\"fade-up\"&gt;&lt;p&gt;不行...</td>\n",
       "    </tr>\n",
       "    <tr>\n",
       "      <th>36</th>\n",
       "      <td>medical-4-8</td>\n",
       "      <td>[&lt;li class=\"aos-init\" data-aos=\"fade-up\"&gt;&lt;p&gt;目前...</td>\n",
       "    </tr>\n",
       "    <tr>\n",
       "      <th>37</th>\n",
       "      <td>medical-4-9</td>\n",
       "      <td>[&lt;li class=\"aos-init\" data-aos=\"fade-up\"&gt;&lt;p&gt;吃了...</td>\n",
       "    </tr>\n",
       "    <tr>\n",
       "      <th>38</th>\n",
       "      <td>medical-5-1</td>\n",
       "      <td>[&lt;li class=\"aos-init\" data-aos=\"fade-up\"&gt;&lt;h3&gt;如...</td>\n",
       "    </tr>\n",
       "    <tr>\n",
       "      <th>39</th>\n",
       "      <td>medical-5-3</td>\n",
       "      <td>[&lt;li class=\"aos-init\" data-aos=\"fade-up\"&gt;&lt;h3&gt;什...</td>\n",
       "    </tr>\n",
       "    <tr>\n",
       "      <th>40</th>\n",
       "      <td>mentalCare-5-1</td>\n",
       "      <td>[&lt;li class=\"aos-init\" data-aos=\"fade-up\"&gt;&lt;h3&gt;心...</td>\n",
       "    </tr>\n",
       "    <tr>\n",
       "      <th>41</th>\n",
       "      <td>mentalCare-5-2</td>\n",
       "      <td>[&lt;li class=\"aos-init\" data-aos=\"fade-up\"&gt;&lt;h3&gt;懷...</td>\n",
       "    </tr>\n",
       "    <tr>\n",
       "      <th>42</th>\n",
       "      <td>mentalCare-5-3</td>\n",
       "      <td>[&lt;li class=\"aos-init\" data-aos=\"fade-up\"&gt;&lt;h3&gt;認...</td>\n",
       "    </tr>\n",
       "    <tr>\n",
       "      <th>43</th>\n",
       "      <td>mentalCare-5-4</td>\n",
       "      <td>[&lt;li class=\"aos-init\" data-aos=\"fade-up\"&gt;&lt;h3&gt;簡...</td>\n",
       "    </tr>\n",
       "    <tr>\n",
       "      <th>44</th>\n",
       "      <td>parenting-5-1</td>\n",
       "      <td>[&lt;li class=\"aos-init\" data-aos=\"fade-up\"&gt;&lt;h3&gt;準...</td>\n",
       "    </tr>\n",
       "    <tr>\n",
       "      <th>45</th>\n",
       "      <td>parenting-5-2</td>\n",
       "      <td>[&lt;li class=\"aos-init\" data-aos=\"fade-up\"&gt;&lt;p&gt;媽媽...</td>\n",
       "    </tr>\n",
       "    <tr>\n",
       "      <th>46</th>\n",
       "      <td>parenting-5-3</td>\n",
       "      <td>[&lt;li class=\"aos-init\" data-aos=\"fade-up\"&gt;&lt;h3&gt;0...</td>\n",
       "    </tr>\n",
       "    <tr>\n",
       "      <th>47</th>\n",
       "      <td>study-5-1</td>\n",
       "      <td>[&lt;li class=\"aos-init\" data-aos=\"fade-up\"&gt;&lt;p&gt;依照...</td>\n",
       "    </tr>\n",
       "    <tr>\n",
       "      <th>48</th>\n",
       "      <td>unintended-6-1</td>\n",
       "      <td>[&lt;li class=\"aos-init\" data-aos=\"fade-up\"&gt;&lt;h3&gt;什...</td>\n",
       "    </tr>\n",
       "    <tr>\n",
       "      <th>49</th>\n",
       "      <td>unintended-6-2</td>\n",
       "      <td>[&lt;li class=\"aos-init\" data-aos=\"fade-up\"&gt;&lt;h3&gt;我...</td>\n",
       "    </tr>\n",
       "    <tr>\n",
       "      <th>50</th>\n",
       "      <td>unintended-6-3</td>\n",
       "      <td>[&lt;li class=\"aos-init\" data-aos=\"fade-up\"&gt;&lt;h3&gt;收...</td>\n",
       "    </tr>\n",
       "    <tr>\n",
       "      <th>51</th>\n",
       "      <td>unintended-6-4</td>\n",
       "      <td>[&lt;li class=\"aos-init\" data-aos=\"fade-up\"&gt;&lt;h3&gt;留...</td>\n",
       "    </tr>\n",
       "  </tbody>\n",
       "</table>\n",
       "</div>"
      ],
      "text/plain": [
       "                 第四階頁碼                                            Content\n",
       "0              act-4-1  [<li class=\"aos-init\" data-aos=\"fade-up\"><h3>未...\n",
       "1              act-4-3  [<li class=\"aos-init\" data-aos=\"fade-up\"><p>想必...\n",
       "2            act-4-3-1  [<li class=\"aos-init\" data-aos=\"fade-up\"><p>想必...\n",
       "3              act-4-5  [<li class=\"aos-init\" data-aos=\"fade-up\"><p>若你...\n",
       "4              act-5-1  [<li class=\"aos-init\" data-aos=\"fade-up\"><h3>進...\n",
       "5            act-5-1-1  [<li class=\"aos-init\" data-aos=\"fade-up\"><h3>小...\n",
       "6              act-5-2  [<li class=\"aos-init\" data-aos=\"fade-up\"><h3>(...\n",
       "7              act-5-3  [<li class=\"aos-init\" data-aos=\"fade-up\"><h3>被...\n",
       "8              act-5-5  [<li class=\"aos-init\" data-aos=\"fade-up\"><h3>監...\n",
       "9          economy-5-1  [<li class=\"aos-init\" data-aos=\"fade-up\"><h3>社...\n",
       "10         economy-5-2  [<li class=\"aos-init\" data-aos=\"fade-up\"><h3>生...\n",
       "11         economy-5-3  [<li class=\"aos-init\" data-aos=\"fade-up\"><h3>托...\n",
       "12  familyRelation-4-1  [<li class=\"aos-init\" data-aos=\"fade-up\"><h3>如...\n",
       "13  familyRelation-4-3  [<li class=\"aos-init\" data-aos=\"fade-up\"><p>父母...\n",
       "14  familyRelation-4-5  [<li class=\"aos-init\" data-aos=\"fade-up\"><p>性教...\n",
       "15  familyRelation-4-6  [<li class=\"aos-init\" data-aos=\"fade-up\"><p>依據...\n",
       "16  familyRelation-4-7  [<li class=\"aos-init\" data-aos=\"fade-up\"><h3>我...\n",
       "17  familyRelation-5-1  [<li class=\"aos-init\" data-aos=\"fade-up\"><h3>準...\n",
       "18  familyRelation-5-2  [<li class=\"aos-init\" data-aos=\"fade-up\"><p>如果...\n",
       "19  familyRelation-5-3  [<li class=\"aos-init\" data-aos=\"fade-up\"><h3>監...\n",
       "20  familyRelation-5-4  [<li class=\"aos-init\" data-aos=\"fade-up\"><h3>是...\n",
       "21  familyRelation-5-5  [<li class=\"aos-init\" data-aos=\"fade-up\"><p>我的...\n",
       "22   heartTohearts-5-1  [<li class=\"aos-init\" data-aos=\"fade-up\"><h3>懷...\n",
       "23        intimacy-4-1  [<li class=\"aos-init\" data-aos=\"fade-up\"><p>法律...\n",
       "24        intimacy-4-2  [<li class=\"aos-init\" data-aos=\"fade-up\"><p>不行...\n",
       "25        intimacy-4-3  [<li class=\"aos-init\" data-aos=\"fade-up\"><p>不論...\n",
       "26        intimacy-4-4  [<li class=\"aos-init\" data-aos=\"fade-up\"><p>在交...\n",
       "27        intimacy-4-5  [<li class=\"aos-init\" data-aos=\"fade-up\"><p>在交...\n",
       "28         medical-4-1  [<li class=\"aos-init\" data-aos=\"fade-up\"><h3>什...\n",
       "29        medical-4-10  [<li class=\"aos-init\" data-aos=\"fade-up\"><p>從上...\n",
       "30        medical-4-11  [<li class=\"aos-init\" data-aos=\"fade-up\"><p>有時...\n",
       "31         medical-4-2  [<li class=\"aos-init\" data-aos=\"fade-up\"><h3>準...\n",
       "32         medical-4-3  [<li class=\"aos-init\" data-aos=\"fade-up\"><img ...\n",
       "33         medical-4-4  [<li class=\"aos-init\" data-aos=\"fade-up\"><h3>規...\n",
       "34         medical-4-5  [<li class=\"aos-init\" data-aos=\"fade-up\"><p>產檢...\n",
       "35         medical-4-7  [<li class=\"aos-init\" data-aos=\"fade-up\"><p>不行...\n",
       "36         medical-4-8  [<li class=\"aos-init\" data-aos=\"fade-up\"><p>目前...\n",
       "37         medical-4-9  [<li class=\"aos-init\" data-aos=\"fade-up\"><p>吃了...\n",
       "38         medical-5-1  [<li class=\"aos-init\" data-aos=\"fade-up\"><h3>如...\n",
       "39         medical-5-3  [<li class=\"aos-init\" data-aos=\"fade-up\"><h3>什...\n",
       "40      mentalCare-5-1  [<li class=\"aos-init\" data-aos=\"fade-up\"><h3>心...\n",
       "41      mentalCare-5-2  [<li class=\"aos-init\" data-aos=\"fade-up\"><h3>懷...\n",
       "42      mentalCare-5-3  [<li class=\"aos-init\" data-aos=\"fade-up\"><h3>認...\n",
       "43      mentalCare-5-4  [<li class=\"aos-init\" data-aos=\"fade-up\"><h3>簡...\n",
       "44       parenting-5-1  [<li class=\"aos-init\" data-aos=\"fade-up\"><h3>準...\n",
       "45       parenting-5-2  [<li class=\"aos-init\" data-aos=\"fade-up\"><p>媽媽...\n",
       "46       parenting-5-3  [<li class=\"aos-init\" data-aos=\"fade-up\"><h3>0...\n",
       "47           study-5-1  [<li class=\"aos-init\" data-aos=\"fade-up\"><p>依照...\n",
       "48      unintended-6-1  [<li class=\"aos-init\" data-aos=\"fade-up\"><h3>什...\n",
       "49      unintended-6-2  [<li class=\"aos-init\" data-aos=\"fade-up\"><h3>我...\n",
       "50      unintended-6-3  [<li class=\"aos-init\" data-aos=\"fade-up\"><h3>收...\n",
       "51      unintended-6-4  [<li class=\"aos-init\" data-aos=\"fade-up\"><h3>留..."
      ]
     },
     "execution_count": 123,
     "metadata": {},
     "output_type": "execute_result"
    }
   ],
   "source": [
    "data"
   ]
  },
  {
   "cell_type": "code",
   "execution_count": 68,
   "metadata": {},
   "outputs": [],
   "source": [
    "data.to_excel(r'Content2.xlsx')"
   ]
  },
  {
   "cell_type": "code",
   "execution_count": 127,
   "metadata": {},
   "outputs": [],
   "source": [
    "data.to_json(r'Content2.json',force_ascii=False, orient='records')"
   ]
  },
  {
   "cell_type": "code",
   "execution_count": 122,
   "metadata": {},
   "outputs": [],
   "source": [
    "import excel2json\n",
    "import pandas\n",
    "\n",
    "# excel_data_df = pandas.read_excel('Content2.xlsx', sheet_name='Sheet1')\n",
    "\n",
    "json_str = data.to_json(orient='records',force_ascii=False)\n",
    "\n",
    "# print('Excel Sheet to JSON:\\n', json_str)\n",
    "# excel2json.convert_from_file('Content2.xlsx')\n"
   ]
  },
  {
   "cell_type": "code",
   "execution_count": 114,
   "metadata": {},
   "outputs": [
    {
     "data": {
      "text/plain": [
       "'\"'"
      ]
     },
     "execution_count": 114,
     "metadata": {},
     "output_type": "execute_result"
    }
   ],
   "source": []
  }
 ],
 "metadata": {
  "kernelspec": {
   "display_name": "Python 3.10.2 64-bit",
   "language": "python",
   "name": "python3"
  },
  "language_info": {
   "codemirror_mode": {
    "name": "ipython",
    "version": 3
   },
   "file_extension": ".py",
   "mimetype": "text/x-python",
   "name": "python",
   "nbconvert_exporter": "python",
   "pygments_lexer": "ipython3",
   "version": "3.10.2"
  },
  "orig_nbformat": 4,
  "vscode": {
   "interpreter": {
    "hash": "21028b07f43f8532f9b2183370e542e6ccc7383657941d49f9b7b9d87c4222d7"
   }
  }
 },
 "nbformat": 4,
 "nbformat_minor": 2
}
